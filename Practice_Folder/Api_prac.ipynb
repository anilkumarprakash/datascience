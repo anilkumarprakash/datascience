{
 "cells": [
  {
   "cell_type": "markdown",
   "id": "f7e2679f",
   "metadata": {},
   "source": [
    "* API NAME - APIs.guru\n",
    "* DESCRIPTION  - \tOpenAPI API directory\n",
    "* SAMPLE URL  -  https://api.apis.guru/v2/list.json"
   ]
  },
  {
   "cell_type": "code",
   "execution_count": 51,
   "id": "3af90792",
   "metadata": {},
   "outputs": [],
   "source": [
    "import requests\n",
    "import json\n",
    "import pandas as pd"
   ]
  },
  {
   "cell_type": "code",
   "execution_count": 52,
   "id": "bbaeab1b",
   "metadata": {},
   "outputs": [],
   "source": [
    "url = \"https://api.apis.guru/v2/list.json\"\n",
    "response = requests.get(url)\n",
    "api_data = response.json()"
   ]
  },
  {
   "cell_type": "code",
   "execution_count": 53,
   "id": "7c50d010",
   "metadata": {},
   "outputs": [
    {
     "name": "stdout",
     "output_type": "stream",
     "text": [
      "           1forge.com.added 1forge.com.preferred  \\\n",
      "0  2017-05-30T08:34:14.000Z                0.0.1   \n",
      "\n",
      "  1forge.com.versions.0.0.1.added  \\\n",
      "0        2017-05-30T08:34:14.000Z   \n",
      "\n",
      "  1forge.com.versions.0.0.1.info.contact.email  \\\n",
      "0                           contact@1forge.com   \n",
      "\n",
      "  1forge.com.versions.0.0.1.info.contact.name  \\\n",
      "0                                      1Forge   \n",
      "\n",
      "  1forge.com.versions.0.0.1.info.contact.url  \\\n",
      "0                          http://1forge.com   \n",
      "\n",
      "  1forge.com.versions.0.0.1.info.description  \\\n",
      "0   Stock and Forex Data and Realtime Quotes   \n",
      "\n",
      "  1forge.com.versions.0.0.1.info.title 1forge.com.versions.0.0.1.info.version  \\\n",
      "0                  1Forge Finance APIs                                  0.0.1   \n",
      "\n",
      "  1forge.com.versions.0.0.1.info.x-apisguru-categories  ...  \\\n",
      "0                                        [financial]    ...   \n",
      "\n",
      "  zuora.com.versions.2021-08-20.info.version  \\\n",
      "0                                 2021-08-20   \n",
      "\n",
      "  zuora.com.versions.2021-08-20.info.x-apisguru-categories  \\\n",
      "0                                        [financial]         \n",
      "\n",
      "       zuora.com.versions.2021-08-20.info.x-logo.url  \\\n",
      "0  https://api.apis.guru/v2/cache/logo/https_www....   \n",
      "\n",
      "         zuora.com.versions.2021-08-20.info.x-origin  \\\n",
      "0  [{'format': 'openapi', 'url': 'https://www.zuo...   \n",
      "\n",
      "  zuora.com.versions.2021-08-20.info.x-providerName  \\\n",
      "0                                         zuora.com   \n",
      "\n",
      "  zuora.com.versions.2021-08-20.updated  \\\n",
      "0              2021-08-23T09:34:59.789Z   \n",
      "\n",
      "            zuora.com.versions.2021-08-20.swaggerUrl  \\\n",
      "0  https://api.apis.guru/v2/specs/zuora.com/2021-...   \n",
      "\n",
      "        zuora.com.versions.2021-08-20.swaggerYamlUrl  \\\n",
      "0  https://api.apis.guru/v2/specs/zuora.com/2021-...   \n",
      "\n",
      "  zuora.com.versions.2021-08-20.openapiVer  \\\n",
      "0                                    3.0.0   \n",
      "\n",
      "                  zuora.com.versions.2021-08-20.link  \n",
      "0  https://api.apis.guru/v2/specs/zuora.com/2021-...  \n",
      "\n",
      "[1 rows x 75502 columns]\n"
     ]
    }
   ],
   "source": [
    "df = pd.json_normalize(api_data)\n",
    "print(df.head())"
   ]
  },
  {
   "cell_type": "code",
   "execution_count": 54,
   "id": "1606eb9b",
   "metadata": {},
   "outputs": [
    {
     "name": "stdout",
     "output_type": "stream",
     "text": [
      "                                                  added preferred  \\\n",
      "1forge.com                     2017-05-30T08:34:14.000Z     0.0.1   \n",
      "1password.com:events           2021-07-19T10:17:09.188Z     1.0.0   \n",
      "1password.local:connect        2021-04-16T15:56:45.939Z     1.5.7   \n",
      "6-dot-authentiqio.appspot.com  2017-03-15T14:45:58.000Z         6   \n",
      "ably.io:platform               2019-07-13T11:28:07.000Z     1.1.0   \n",
      "\n",
      "                                                                        versions  \n",
      "1forge.com                     {'0.0.1': {'added': '2017-05-30T08:34:14.000Z'...  \n",
      "1password.com:events           {'1.0.0': {'added': '2021-07-19T10:17:09.188Z'...  \n",
      "1password.local:connect        {'1.5.7': {'added': '2021-04-16T15:56:45.939Z'...  \n",
      "6-dot-authentiqio.appspot.com  {'6': {'added': '2017-03-15T14:45:58.000Z', 'i...  \n",
      "ably.io:platform               {'1.1.0': {'added': '2019-07-13T11:28:07.000Z'...  \n"
     ]
    }
   ],
   "source": [
    "df = pd.DataFrame.from_dict(api_data, orient='index')\n",
    "print(df.head())"
   ]
  },
  {
   "cell_type": "markdown",
   "id": "b2e95f2d",
   "metadata": {},
   "source": [
    "# 2. Example\n",
    "* Name: Art Institute of Chicago\n",
    "* Description: Artwork from the museum\n",
    "* Sample URL: https://api.artic.edu/api/v1/artworks/search?q=cats"
   ]
  },
  {
   "cell_type": "code",
   "execution_count": 85,
   "id": "b13b7f9d",
   "metadata": {},
   "outputs": [
    {
     "data": {
      "text/plain": [
       "200"
      ]
     },
     "execution_count": 85,
     "metadata": {},
     "output_type": "execute_result"
    }
   ],
   "source": [
    "url = \"https://api.artic.edu/api/v1/artworks/search?q=cats\"\n",
    "response = requests.get (url)\n",
    "response.status_code"
   ]
  },
  {
   "cell_type": "code",
   "execution_count": 86,
   "id": "af848ad0",
   "metadata": {},
   "outputs": [
    {
     "data": {
      "text/plain": [
       "dict_keys(['preference', 'pagination', 'data', 'info', 'config'])"
      ]
     },
     "execution_count": 86,
     "metadata": {},
     "output_type": "execute_result"
    }
   ],
   "source": [
    "results = json.loads(response.text)\n",
    "results.keys()"
   ]
  },
  {
   "cell_type": "code",
   "execution_count": 87,
   "id": "999f9f3a",
   "metadata": {},
   "outputs": [
    {
     "name": "stdout",
     "output_type": "stream",
     "text": [
      "['_score', 'id', 'api_model', 'api_link', 'is_boosted', 'title', 'timestamp', 'thumbnail.lqip', 'thumbnail.width', 'thumbnail.height', 'thumbnail.alt_text']\n"
     ]
    }
   ],
   "source": [
    "df = pd.json_normalize(results['data'])\n",
    "\n",
    "columns = df.columns.tolist()\n",
    "print(columns)\n"
   ]
  },
  {
   "cell_type": "markdown",
   "id": "0806611c",
   "metadata": {},
   "source": [
    "* Search api_link"
   ]
  },
  {
   "cell_type": "code",
   "execution_count": 89,
   "id": "6abf7a45",
   "metadata": {},
   "outputs": [],
   "source": [
    "df['api_link']\n",
    "new_url = df['api_link'][0]"
   ]
  },
  {
   "cell_type": "code",
   "execution_count": 90,
   "id": "f1a54202",
   "metadata": {},
   "outputs": [],
   "source": [
    "response1 = requests.get(new_url)\n",
    "data1 = response1.json()"
   ]
  },
  {
   "cell_type": "code",
   "execution_count": 94,
   "id": "de8cbdba",
   "metadata": {},
   "outputs": [
    {
     "data": {
      "text/plain": [
       "dict_keys(['data', 'info', 'config'])"
      ]
     },
     "execution_count": 94,
     "metadata": {},
     "output_type": "execute_result"
    }
   ],
   "source": [
    "results_d = json.loads(response1.text)\n",
    "results_d.keys()"
   ]
  },
  {
   "cell_type": "code",
   "execution_count": 96,
   "id": "eba97abf",
   "metadata": {},
   "outputs": [],
   "source": [
    "results_data = pd.DataFrame(results_d)"
   ]
  },
  {
   "cell_type": "code",
   "execution_count": 97,
   "id": "a2ef3ba9",
   "metadata": {},
   "outputs": [
    {
     "data": {
      "text/html": [
       "<div>\n",
       "<style scoped>\n",
       "    .dataframe tbody tr th:only-of-type {\n",
       "        vertical-align: middle;\n",
       "    }\n",
       "\n",
       "    .dataframe tbody tr th {\n",
       "        vertical-align: top;\n",
       "    }\n",
       "\n",
       "    .dataframe thead th {\n",
       "        text-align: right;\n",
       "    }\n",
       "</style>\n",
       "<table border=\"1\" class=\"dataframe\">\n",
       "  <thead>\n",
       "    <tr style=\"text-align: right;\">\n",
       "      <th></th>\n",
       "      <th>data</th>\n",
       "      <th>info</th>\n",
       "      <th>config</th>\n",
       "    </tr>\n",
       "  </thead>\n",
       "  <tbody>\n",
       "    <tr>\n",
       "      <th>id</th>\n",
       "      <td>656</td>\n",
       "      <td>NaN</td>\n",
       "      <td>NaN</td>\n",
       "    </tr>\n",
       "    <tr>\n",
       "      <th>api_model</th>\n",
       "      <td>artworks</td>\n",
       "      <td>NaN</td>\n",
       "      <td>NaN</td>\n",
       "    </tr>\n",
       "    <tr>\n",
       "      <th>api_link</th>\n",
       "      <td>https://api.artic.edu/api/v1/artworks/656</td>\n",
       "      <td>NaN</td>\n",
       "      <td>NaN</td>\n",
       "    </tr>\n",
       "    <tr>\n",
       "      <th>is_boosted</th>\n",
       "      <td>False</td>\n",
       "      <td>NaN</td>\n",
       "      <td>NaN</td>\n",
       "    </tr>\n",
       "    <tr>\n",
       "      <th>title</th>\n",
       "      <td>Lion (One of a Pair, South Pedestal)</td>\n",
       "      <td>NaN</td>\n",
       "      <td>NaN</td>\n",
       "    </tr>\n",
       "    <tr>\n",
       "      <th>...</th>\n",
       "      <td>...</td>\n",
       "      <td>...</td>\n",
       "      <td>...</td>\n",
       "    </tr>\n",
       "    <tr>\n",
       "      <th>license_text</th>\n",
       "      <td>NaN</td>\n",
       "      <td>The `description` field in this response is li...</td>\n",
       "      <td>NaN</td>\n",
       "    </tr>\n",
       "    <tr>\n",
       "      <th>license_links</th>\n",
       "      <td>NaN</td>\n",
       "      <td>[https://creativecommons.org/publicdomain/zero...</td>\n",
       "      <td>NaN</td>\n",
       "    </tr>\n",
       "    <tr>\n",
       "      <th>version</th>\n",
       "      <td>NaN</td>\n",
       "      <td>1.13</td>\n",
       "      <td>NaN</td>\n",
       "    </tr>\n",
       "    <tr>\n",
       "      <th>iiif_url</th>\n",
       "      <td>NaN</td>\n",
       "      <td>NaN</td>\n",
       "      <td>https://www.artic.edu/iiif/2</td>\n",
       "    </tr>\n",
       "    <tr>\n",
       "      <th>website_url</th>\n",
       "      <td>NaN</td>\n",
       "      <td>NaN</td>\n",
       "      <td>http://www.artic.edu</td>\n",
       "    </tr>\n",
       "  </tbody>\n",
       "</table>\n",
       "<p>103 rows × 3 columns</p>\n",
       "</div>"
      ],
      "text/plain": [
       "                                                    data  \\\n",
       "id                                                   656   \n",
       "api_model                                       artworks   \n",
       "api_link       https://api.artic.edu/api/v1/artworks/656   \n",
       "is_boosted                                         False   \n",
       "title               Lion (One of a Pair, South Pedestal)   \n",
       "...                                                  ...   \n",
       "license_text                                         NaN   \n",
       "license_links                                        NaN   \n",
       "version                                              NaN   \n",
       "iiif_url                                             NaN   \n",
       "website_url                                          NaN   \n",
       "\n",
       "                                                            info  \\\n",
       "id                                                           NaN   \n",
       "api_model                                                    NaN   \n",
       "api_link                                                     NaN   \n",
       "is_boosted                                                   NaN   \n",
       "title                                                        NaN   \n",
       "...                                                          ...   \n",
       "license_text   The `description` field in this response is li...   \n",
       "license_links  [https://creativecommons.org/publicdomain/zero...   \n",
       "version                                                     1.13   \n",
       "iiif_url                                                     NaN   \n",
       "website_url                                                  NaN   \n",
       "\n",
       "                                     config  \n",
       "id                                      NaN  \n",
       "api_model                               NaN  \n",
       "api_link                                NaN  \n",
       "is_boosted                              NaN  \n",
       "title                                   NaN  \n",
       "...                                     ...  \n",
       "license_text                            NaN  \n",
       "license_links                           NaN  \n",
       "version                                 NaN  \n",
       "iiif_url       https://www.artic.edu/iiif/2  \n",
       "website_url            http://www.artic.edu  \n",
       "\n",
       "[103 rows x 3 columns]"
      ]
     },
     "execution_count": 97,
     "metadata": {},
     "output_type": "execute_result"
    }
   ],
   "source": [
    "results_data"
   ]
  },
  {
   "cell_type": "code",
   "execution_count": null,
   "id": "5b8bca1d",
   "metadata": {},
   "outputs": [],
   "source": []
  }
 ],
 "metadata": {
  "kernelspec": {
   "display_name": "Python 3",
   "language": "python",
   "name": "python3"
  },
  "language_info": {
   "codemirror_mode": {
    "name": "ipython",
    "version": 3
   },
   "file_extension": ".py",
   "mimetype": "text/x-python",
   "name": "python",
   "nbconvert_exporter": "python",
   "pygments_lexer": "ipython3",
   "version": "3.12.1"
  }
 },
 "nbformat": 4,
 "nbformat_minor": 5
}
